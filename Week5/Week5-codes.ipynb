{
 "cells": [
  {
   "cell_type": "code",
   "execution_count": 1,
   "id": "806cd050",
   "metadata": {},
   "outputs": [],
   "source": [
    "import numpy as np\n",
    "import pandas as pd\n",
    "import matplotlib.pyplot as plt\n",
    "from numpy import linalg as LA\n",
    "from scipy.stats import t\n",
    "from scipy.stats import norm\n",
    "import seaborn as sns"
   ]
  },
  {
   "cell_type": "markdown",
   "id": "314fe4cf",
   "metadata": {},
   "source": [
    "<font size=\"5\">**Question 1**"
   ]
  },
  {
   "cell_type": "code",
   "execution_count": 2,
   "id": "2ff9ad8d",
   "metadata": {},
   "outputs": [],
   "source": [
    "df = pd.read_csv(r'Problem1.csv')\n",
    "x_df = df['x']\n",
    "alpha = 5\n",
    "n = len(x_df)"
   ]
  },
  {
   "cell_type": "code",
   "execution_count": 3,
   "id": "805ba91b",
   "metadata": {},
   "outputs": [],
   "source": [
    "def calc_VaR(portofolioReturns, portfolioStd, distribution='normal', alpha=5, dof=6):\n",
    "    if distribution == 'normal':\n",
    "        VaR = norm.ppf(1-alpha/100)*portfolioStd - portofolioReturns\n",
    "    elif distribution == 't-distribution':\n",
    "        nu = dof\n",
    "        VaR = np.sqrt((nu-2)/nu) * t.ppf(1-alpha/100, nu) * portfolioStd - portofolioReturns\n",
    "    else:\n",
    "        raise TypeError(\"Expected distribution type 'normal'/'t-distribution'\")\n",
    "    return VaR"
   ]
  },
  {
   "cell_type": "code",
   "execution_count": 4,
   "id": "03d48143",
   "metadata": {},
   "outputs": [],
   "source": [
    "def calc_CVaR(portofolioReturns, portfolioStd, distribution='normal', alpha=5, dof=6):\n",
    "    if distribution == 'normal':\n",
    "        CVaR = (alpha/100)**-1 * norm.pdf(norm.ppf(alpha/100))*portfolioStd - portofolioReturns\n",
    "    elif distribution == 't-distribution':\n",
    "        nu = dof\n",
    "        xanu = t.ppf(alpha/100, nu)\n",
    "        CVaR = -1/(alpha/100) * (1-nu)**(-1) * (nu-2+xanu**2) * t.pdf(xanu, nu) * portfolioStd - portofolioReturns\n",
    "    else:\n",
    "        raise TypeError(\"Expected distribution type 'normal'/'t-distribution'\")\n",
    "    return CVaR"
   ]
  },
  {
   "cell_type": "code",
   "execution_count": 5,
   "id": "568b3697",
   "metadata": {},
   "outputs": [],
   "source": [
    "#Empirical Data\n",
    "x_mean = np.mean(x_df)\n",
    "x_std = x_df.std()\n",
    "\n",
    "emp_VaR = np.percentile(x_df, alpha)\n",
    "belowVaR = x_df <= emp_VaR\n",
    "emp_CVaR = x_df[belowVaR].mean()\n",
    "emp_VaR *= -1\n",
    "emp_CVaR *= -1"
   ]
  },
  {
   "cell_type": "code",
   "execution_count": 6,
   "id": "2ab69d65",
   "metadata": {},
   "outputs": [],
   "source": [
    "#Fit in Normal Distribution\n",
    "norm_VaR = calc_VaR(x_mean, x_std, 'normal', alpha)\n",
    "norm_CVaR = calc_CVaR(x_mean, x_std, 'normal', alpha)"
   ]
  },
  {
   "cell_type": "code",
   "execution_count": 7,
   "id": "d7c8bdb5",
   "metadata": {},
   "outputs": [],
   "source": [
    "#Fit in T-Distribution\n",
    "dof = n-1\n",
    "t_VaR = calc_VaR(x_mean, x_std, 't-distribution', alpha, dof)\n",
    "t_CVaR = calc_CVaR(x_mean, x_std, 't-distribution', alpha, dof)"
   ]
  },
  {
   "cell_type": "code",
   "execution_count": 8,
   "id": "2dac0c74",
   "metadata": {},
   "outputs": [
    {
     "data": {
      "text/html": [
       "<div>\n",
       "<style scoped>\n",
       "    .dataframe tbody tr th:only-of-type {\n",
       "        vertical-align: middle;\n",
       "    }\n",
       "\n",
       "    .dataframe tbody tr th {\n",
       "        vertical-align: top;\n",
       "    }\n",
       "\n",
       "    .dataframe thead th {\n",
       "        text-align: right;\n",
       "    }\n",
       "</style>\n",
       "<table border=\"1\" class=\"dataframe\">\n",
       "  <thead>\n",
       "    <tr style=\"text-align: right;\">\n",
       "      <th></th>\n",
       "      <th>Name</th>\n",
       "      <th>Value</th>\n",
       "    </tr>\n",
       "  </thead>\n",
       "  <tbody>\n",
       "    <tr>\n",
       "      <th>0</th>\n",
       "      <td>Empirical VaR</td>\n",
       "      <td>0.075981</td>\n",
       "    </tr>\n",
       "    <tr>\n",
       "      <th>1</th>\n",
       "      <td>Empirical CVaR</td>\n",
       "      <td>0.116777</td>\n",
       "    </tr>\n",
       "    <tr>\n",
       "      <th>2</th>\n",
       "      <td>Normal VaR</td>\n",
       "      <td>0.081335</td>\n",
       "    </tr>\n",
       "    <tr>\n",
       "      <th>3</th>\n",
       "      <td>Normal CVaR</td>\n",
       "      <td>0.101774</td>\n",
       "    </tr>\n",
       "    <tr>\n",
       "      <th>4</th>\n",
       "      <td>T VaR</td>\n",
       "      <td>0.081323</td>\n",
       "    </tr>\n",
       "    <tr>\n",
       "      <th>5</th>\n",
       "      <td>T CVaR</td>\n",
       "      <td>0.101660</td>\n",
       "    </tr>\n",
       "  </tbody>\n",
       "</table>\n",
       "</div>"
      ],
      "text/plain": [
       "             Name     Value\n",
       "0   Empirical VaR  0.075981\n",
       "1  Empirical CVaR  0.116777\n",
       "2      Normal VaR  0.081335\n",
       "3     Normal CVaR  0.101774\n",
       "4           T VaR  0.081323\n",
       "5          T CVaR  0.101660"
      ]
     },
     "execution_count": 8,
     "metadata": {},
     "output_type": "execute_result"
    }
   ],
   "source": [
    "VaRs = [emp_VaR, emp_CVaR, norm_VaR, norm_CVaR, t_VaR, t_CVaR]\n",
    "names = ['Empirical VaR', 'Empirical CVaR', 'Normal VaR', 'Normal CVaR', 'T VaR', 'T CVaR']\n",
    "result1 = pd.DataFrame(list(zip(names,VaRs)), columns = ['Name','Value'])\n",
    "result1"
   ]
  },
  {
   "cell_type": "code",
   "execution_count": 9,
   "id": "c59c8243",
   "metadata": {},
   "outputs": [
    {
     "data": {
      "text/plain": [
       "Text(-0.12166020897539315, -0.2, 'tCVaR')"
      ]
     },
     "execution_count": 9,
     "metadata": {},
     "output_type": "execute_result"
    },
    {
     "data": {
      "image/png": "[encoded data removed]",
      "text/plain": [
       "<Figure size 432x288 with 1 Axes>"
      ]
     },
     "metadata": {
      "needs_background": "light"
     },
     "output_type": "display_data"
    }
   ],
   "source": [
    "plt.plot()\n",
    "sns.kdeplot(x_df)\n",
    "plt.xlabel('Value X')\n",
    "plt.ylabel('Density')\n",
    "plt.title('Distribution of X with VaR and CVaR')\n",
    "\n",
    "# Normal VaR point\n",
    "plt.scatter([-norm_VaR],[0], s=25, c='r')\n",
    "plt.text((-norm_VaR+0.02),0.2, 'nVaR', ha='center', va='bottom', fontsize=10.5)\n",
    "\n",
    "# Normal CVaR point\n",
    "plt.scatter([-norm_CVaR],[0], s=25, c='r')\n",
    "plt.text((-norm_CVaR-0.02),0.2, 'nCVaR', ha='center', va='bottom', fontsize=10.5)\n",
    "\n",
    "# tVaR point\n",
    "plt.scatter([-t_VaR],[0], s=25, c='g')\n",
    "plt.text((-t_VaR+0.02),-0.2, 'tVaR', ha='center', va='bottom', fontsize=10.5)\n",
    "\n",
    "# Normal CVaR point\n",
    "plt.scatter([-t_CVaR],[0], s=25, c='g')\n",
    "plt.text((-t_CVaR-0.02),-0.2, 'tCVaR', ha='center', va='bottom', fontsize=10.5)"
   ]
  },
  {
   "cell_type": "markdown",
   "id": "e6222462",
   "metadata": {},
   "source": [
    "<font size=\"5\">**Question 2**"
   ]
  },
  {
   "cell_type": "markdown",
   "id": "44870d8b",
   "metadata": {},
   "source": [
    "See in \"library.ipynb\""
   ]
  },
  {
   "cell_type": "markdown",
   "id": "238083d1",
   "metadata": {},
   "source": [
    "<font size=\"5\">**Question 3**"
   ]
  },
  {
   "cell_type": "code",
   "execution_count": 10,
   "id": "868eed61",
   "metadata": {},
   "outputs": [],
   "source": [
    "portfolio = pd.read_csv(r'portfolio.csv')\n",
    "daily_price = pd.read_csv(r'DailyPrices.csv')"
   ]
  },
  {
   "cell_type": "code",
   "execution_count": 11,
   "id": "2d131ec2",
   "metadata": {},
   "outputs": [],
   "source": [
    "portA = portfolio.loc[portfolio['Portfolio'] == \"A\"][[\"Stock\", \"Holding\"]]\n",
    "portB = portfolio.loc[portfolio['Portfolio'] == \"B\"][[\"Stock\", \"Holding\"]]\n",
    "portC = portfolio.loc[portfolio['Portfolio'] == \"C\"][[\"Stock\", \"Holding\"]]\n",
    "port = portfolio[[\"Stock\", \"Holding\"]]\n",
    "\n",
    "A = pd.Series(range(len(portA)))\n",
    "B = pd.Series(range(len(portB)))\n",
    "C = pd.Series(range(len(portC)))\n",
    "portA = portA.set_index(A)\n",
    "portB = portB.set_index(B)\n",
    "portC = portC.set_index(C)"
   ]
  },
  {
   "cell_type": "code",
   "execution_count": 12,
   "id": "b6a2c29e",
   "metadata": {},
   "outputs": [],
   "source": [
    "def getWeight(portfolio):\n",
    "    stock = portfolio['Stock']\n",
    "    holding = portfolio['Holding']\n",
    "    price = daily_price[stock]\n",
    "    weight = np.zeros((len(stock),1))\n",
    "    tot = 0\n",
    "    \n",
    "    for i in range(len(stock)):\n",
    "        tot += holding[i] * daily_price[stock[i]].iloc[0]\n",
    "    for i in range(len(stock)):\n",
    "        w = (holding[i] * daily_price[stock[i]].iloc[0]) / tot\n",
    "        weight[i] = w\n",
    "    \n",
    "    return weight"
   ]
  },
  {
   "cell_type": "code",
   "execution_count": 13,
   "id": "f765bee9",
   "metadata": {},
   "outputs": [],
   "source": [
    "def getValue(portfolio, weight):\n",
    "    stock = portfolio['Stock']\n",
    "    n = len(portfolio)\n",
    "    price = daily_price[stock]\n",
    "    port_value = weight.T @ price.T\n",
    "    return port_value.T"
   ]
  },
  {
   "cell_type": "code",
   "execution_count": 14,
   "id": "1d9a4859",
   "metadata": {},
   "outputs": [],
   "source": [
    "def getReturn(value):\n",
    "    returns = value.pct_change()\n",
    "    returns = returns - returns.mean()\n",
    "    returns_std = returns.std()\n",
    "    \n",
    "    return returns, returns_std"
   ]
  },
  {
   "cell_type": "code",
   "execution_count": 15,
   "id": "7eb4f98c",
   "metadata": {},
   "outputs": [],
   "source": [
    "w1 = getWeight(portA)\n",
    "w2 = getWeight(portB)\n",
    "w3 = getWeight(portC)\n",
    "w = getWeight(port)"
   ]
  },
  {
   "cell_type": "code",
   "execution_count": 16,
   "id": "711d5ae7",
   "metadata": {},
   "outputs": [],
   "source": [
    "value1 = getValue(portA,w1)\n",
    "value2 = getValue(portB,w2)\n",
    "value3 = getValue(portC,w3)\n",
    "value = getValue(port, w)"
   ]
  },
  {
   "cell_type": "code",
   "execution_count": 17,
   "id": "4e1b8ebd",
   "metadata": {},
   "outputs": [],
   "source": [
    "returns1, std1 = getReturn(value1)\n",
    "returns2, std2 = getReturn(value2)\n",
    "returns3, std3 = getReturn(value3)\n",
    "returns, std = getReturn(value)"
   ]
  },
  {
   "cell_type": "code",
   "execution_count": 18,
   "id": "86d91fc9",
   "metadata": {},
   "outputs": [],
   "source": [
    "def get_VaR_CVaR(returns, std):\n",
    "    dof = len(returns) - 1\n",
    "    mean = returns.mean()\n",
    "    t_VaR = calc_VaR(mean, std, 't-distribution', alpha, dof)\n",
    "    t_CVaR = calc_CVaR(mean, std, 't-distribution', alpha, dof)\n",
    "    \n",
    "    return t_VaR, t_CVaR"
   ]
  },
  {
   "cell_type": "code",
   "execution_count": 19,
   "id": "6f2bc36d",
   "metadata": {},
   "outputs": [],
   "source": [
    "alpha = 5\n",
    "VaR1, CVaR1 = get_VaR_CVaR(returns1, std1)\n",
    "VaR2, CVaR2 = get_VaR_CVaR(returns2, std2)\n",
    "VaR3, CVaR3 = get_VaR_CVaR(returns3, std3)\n",
    "VaR, CVaR = get_VaR_CVaR(returns, std)"
   ]
  },
  {
   "cell_type": "code",
   "execution_count": 20,
   "id": "a118613b",
   "metadata": {},
   "outputs": [],
   "source": [
    "port_VaR = [VaR1[0], VaR2[0], VaR3[0], VaR[0]]\n",
    "port_CVaR = [CVaR1[0], CVaR2[0], CVaR3[0], CVaR[0]]\n",
    "port_names = ['Portfolio_A', 'Portfolio_B', 'Portfolio_C', 'Whole_Portfolio']"
   ]
  },
  {
   "cell_type": "code",
   "execution_count": 21,
   "id": "d74a26cd",
   "metadata": {},
   "outputs": [
    {
     "data": {
      "text/html": [
       "<div>\n",
       "<style scoped>\n",
       "    .dataframe tbody tr th:only-of-type {\n",
       "        vertical-align: middle;\n",
       "    }\n",
       "\n",
       "    .dataframe tbody tr th {\n",
       "        vertical-align: top;\n",
       "    }\n",
       "\n",
       "    .dataframe thead th {\n",
       "        text-align: right;\n",
       "    }\n",
       "</style>\n",
       "<table border=\"1\" class=\"dataframe\">\n",
       "  <thead>\n",
       "    <tr style=\"text-align: right;\">\n",
       "      <th></th>\n",
       "      <th>Name</th>\n",
       "      <th>VaR</th>\n",
       "      <th>CVaR</th>\n",
       "    </tr>\n",
       "  </thead>\n",
       "  <tbody>\n",
       "    <tr>\n",
       "      <th>0</th>\n",
       "      <td>Portfolio_A</td>\n",
       "      <td>0.021169</td>\n",
       "      <td>0.026364</td>\n",
       "    </tr>\n",
       "    <tr>\n",
       "      <th>1</th>\n",
       "      <td>Portfolio_B</td>\n",
       "      <td>0.019104</td>\n",
       "      <td>0.023793</td>\n",
       "    </tr>\n",
       "    <tr>\n",
       "      <th>2</th>\n",
       "      <td>Portfolio_C</td>\n",
       "      <td>0.017026</td>\n",
       "      <td>0.021205</td>\n",
       "    </tr>\n",
       "    <tr>\n",
       "      <th>3</th>\n",
       "      <td>Whole_Portfolio</td>\n",
       "      <td>0.017594</td>\n",
       "      <td>0.021912</td>\n",
       "    </tr>\n",
       "  </tbody>\n",
       "</table>\n",
       "</div>"
      ],
      "text/plain": [
       "              Name       VaR      CVaR\n",
       "0      Portfolio_A  0.021169  0.026364\n",
       "1      Portfolio_B  0.019104  0.023793\n",
       "2      Portfolio_C  0.017026  0.021205\n",
       "3  Whole_Portfolio  0.017594  0.021912"
      ]
     },
     "execution_count": 21,
     "metadata": {},
     "output_type": "execute_result"
    }
   ],
   "source": [
    "ans = pd.DataFrame(list(zip(port_names, port_VaR, port_CVaR)), columns = ['Name','VaR', 'CVaR'])\n",
    "ans"
   ]
  }
 ],
 "metadata": {
  "kernelspec": {
   "display_name": "Python 3 (ipykernel)",
   "language": "python",
   "name": "python3"
  },
  "language_info": {
   "codemirror_mode": {
    "name": "ipython",
    "version": 3
   },
   "file_extension": ".py",
   "mimetype": "text/x-python",
   "name": "python",
   "nbconvert_exporter": "python",
   "pygments_lexer": "ipython3",
   "version": "3.9.7"
  }
 },
 "nbformat": 4,
 "nbformat_minor": 5
}
