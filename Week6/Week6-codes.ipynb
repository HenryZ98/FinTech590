{
 "cells": [
  {
   "cell_type": "code",
   "execution_count": 1,
   "id": "57ca5f3b",
   "metadata": {},
   "outputs": [],
   "source": [
    "import numpy as np\n",
    "import pandas as pd\n",
    "import matplotlib.pyplot as plt\n",
    "from datetime import date\n",
    "from scipy.stats import norm\n",
    "from scipy.optimize import fsolve\n",
    "from py_vollib.black_scholes import black_scholes as bs\n",
    "from py_vollib.black_scholes.greeks.analytical import vega"
   ]
  },
  {
   "cell_type": "markdown",
   "id": "0b46a360",
   "metadata": {},
   "source": [
    "<font size=\"5\">**Question 1**"
   ]
  },
  {
   "cell_type": "code",
   "execution_count": 2,
   "id": "ad49e3e6",
   "metadata": {},
   "outputs": [],
   "source": [
    "current_date = date(2022,2,25)\n",
    "last_date = date(2022,3,18)\n",
    "T = ((last_date - current_date).days) / 365\n",
    "S = 165\n",
    "X = 165\n",
    "r = 0.0025\n",
    "dividend_rate = 0.0053\n",
    "b = r - dividend_rate\n",
    "sigma = np.linspace(0.1, 0.8, 100)"
   ]
  },
  {
   "cell_type": "code",
   "execution_count": 3,
   "id": "94ca0b56",
   "metadata": {},
   "outputs": [],
   "source": [
    "def BlackScholes (option_type, S, X, T, sigma, r, b):\n",
    "    d1 = (np.log(S/X) + (b + 0.5*sigma**2)*T) / (sigma*np.sqrt(T))\n",
    "    d2 = (np.log(S/X) + (b - 0.5*sigma**2)*T) / (sigma*np.sqrt(T))\n",
    "    if option_type == \"Call\" or \"call\":\n",
    "        price = S * np.exp((b-r)*T) * norm.cdf(d1,0,1) - X * np.exp(-r*T) * norm.cdf(d2,0,1)\n",
    "    elif option_type == \"Put\" or \"put\":\n",
    "        price = X * np.exp(-r*T) * norm.cdf(-d2,0,1) - S * np.exp((b-r)*T) * norm.cdf(-d1,0,1)\n",
    "    else:\n",
    "        print(\"Wrong option type\")\n",
    "        return 0\n",
    "        \n",
    "    return price"
   ]
  },
  {
   "cell_type": "code",
   "execution_count": 4,
   "id": "0fd16ec1",
   "metadata": {},
   "outputs": [],
   "source": [
    "call_value = np.empty(len(sigma))\n",
    "put_value = np.empty(len(sigma))\n",
    "for i in range(len(sigma)):\n",
    "    call_value[i] = BlackScholes(\"call\", S, X, T, sigma[i], r, b)\n",
    "for i in range(len(sigma)):\n",
    "    put_value[i] = BlackScholes(\"put\", S, X, T, sigma[i], r, b)"
   ]
  },
  {
   "cell_type": "code",
   "execution_count": 5,
   "id": "bf40b17b",
   "metadata": {},
   "outputs": [
    {
     "name": "stdout",
     "output_type": "stream",
     "text": [
      "[ 1.56526555  1.6768696   1.78847274  1.90007481  2.01167571  2.12327533\n",
      "  2.23487355  2.34647028  2.45806542  2.56965888  2.68125056  2.79284037\n",
      "  2.90442823  3.01601405  3.12759774  3.23917922  3.3507584   3.4623352\n",
      "  3.57390953  3.68548132  3.79705047  3.90861691  4.02018056  4.13174132\n",
      "  4.24329913  4.35485389  4.46640553  4.57795397  4.68949912  4.8010409\n",
      "  4.91257924  5.02411404  5.13564524  5.24717275  5.35869648  5.47021636\n",
      "  5.58173232  5.69324425  5.8047521   5.91625577  6.02775518  6.13925027\n",
      "  6.25074093  6.3622271   6.4737087   6.58518564  6.69665784  6.80812523\n",
      "  6.91958772  7.03104523  7.14249769  7.25394501  7.36538711  7.47682392\n",
      "  7.58825535  7.69968132  7.81110175  7.92251657  8.03392569  8.14532904\n",
      "  8.25672652  8.36811808  8.47950361  8.59088305  8.70225631  8.81362331\n",
      "  8.92498398  9.03633824  9.147686    9.25902718  9.37036171  9.4816895\n",
      "  9.59301048  9.70432456  9.81563168  9.92693173 10.03822466 10.14951037\n",
      " 10.26078879 10.37205984 10.48332343 10.5945795  10.70582796 10.81706872\n",
      " 10.92830172 11.03952686 11.15074408 11.26195329 11.37315442 11.48434737\n",
      " 11.59553208 11.70670847 11.81787645 11.92903595 12.04018688 12.15132917\n",
      " 12.26246274 12.37358751 12.48470339 12.59581032]\n"
     ]
    }
   ],
   "source": [
    "print(call_value)"
   ]
  },
  {
   "cell_type": "code",
   "execution_count": 6,
   "id": "5de282ab",
   "metadata": {},
   "outputs": [
    {
     "name": "stdout",
     "output_type": "stream",
     "text": [
      "[ 1.56526555  1.6768696   1.78847274  1.90007481  2.01167571  2.12327533\n",
      "  2.23487355  2.34647028  2.45806542  2.56965888  2.68125056  2.79284037\n",
      "  2.90442823  3.01601405  3.12759774  3.23917922  3.3507584   3.4623352\n",
      "  3.57390953  3.68548132  3.79705047  3.90861691  4.02018056  4.13174132\n",
      "  4.24329913  4.35485389  4.46640553  4.57795397  4.68949912  4.8010409\n",
      "  4.91257924  5.02411404  5.13564524  5.24717275  5.35869648  5.47021636\n",
      "  5.58173232  5.69324425  5.8047521   5.91625577  6.02775518  6.13925027\n",
      "  6.25074093  6.3622271   6.4737087   6.58518564  6.69665784  6.80812523\n",
      "  6.91958772  7.03104523  7.14249769  7.25394501  7.36538711  7.47682392\n",
      "  7.58825535  7.69968132  7.81110175  7.92251657  8.03392569  8.14532904\n",
      "  8.25672652  8.36811808  8.47950361  8.59088305  8.70225631  8.81362331\n",
      "  8.92498398  9.03633824  9.147686    9.25902718  9.37036171  9.4816895\n",
      "  9.59301048  9.70432456  9.81563168  9.92693173 10.03822466 10.14951037\n",
      " 10.26078879 10.37205984 10.48332343 10.5945795  10.70582796 10.81706872\n",
      " 10.92830172 11.03952686 11.15074408 11.26195329 11.37315442 11.48434737\n",
      " 11.59553208 11.70670847 11.81787645 11.92903595 12.04018688 12.15132917\n",
      " 12.26246274 12.37358751 12.48470339 12.59581032]\n"
     ]
    }
   ],
   "source": [
    "print(put_value)"
   ]
  },
  {
   "cell_type": "code",
   "execution_count": 7,
   "id": "4d10e837",
   "metadata": {},
   "outputs": [
    {
     "data": {
      "text/plain": [
       "<matplotlib.legend.Legend at 0x20f3313feb0>"
      ]
     },
     "execution_count": 7,
     "metadata": {},
     "output_type": "execute_result"
    },
    {
     "data": {
      "image/png": "[encoded data removed]",
      "text/plain": [
       "<Figure size 432x288 with 1 Axes>"
      ]
     },
     "metadata": {
      "needs_background": "light"
     },
     "output_type": "display_data"
    }
   ],
   "source": [
    "plt.plot(call_value, label='call')\n",
    "plt.plot(put_value, label = 'put')\n",
    "plt.ylabel('Option Value')\n",
    "plt.xlabel('Volatility')\n",
    "plt.legend()"
   ]
  },
  {
   "cell_type": "markdown",
   "id": "505788c8",
   "metadata": {},
   "source": [
    "<font size=\"5\">**Question 2**"
   ]
  },
  {
   "cell_type": "code",
   "execution_count": 8,
   "id": "186a9081",
   "metadata": {},
   "outputs": [],
   "source": [
    "aapl = pd.read_csv(r'AAPL_Options.csv')"
   ]
  },
  {
   "cell_type": "code",
   "execution_count": 9,
   "id": "0ac454e8",
   "metadata": {},
   "outputs": [],
   "source": [
    "def impliedVolatility (option_type, S, X, T, r, market_price, tol):\n",
    "    '''\n",
    "    S: Underlying Price\n",
    "    X: Strike Price\n",
    "    T: Time to Maturity\n",
    "    r: Risk free rate\n",
    "    tol: tolerance\n",
    "    '''\n",
    "    \n",
    "    max_iter = 9999\n",
    "    iv_old = 0.5\n",
    "    \n",
    "    for i in range(max_iter):\n",
    "        bs_price = bs(option_type, S, X, T, r, iv_old)\n",
    "        vega_price = vega(option_type, S, X, T, r, iv_old) * 100\n",
    "        gap = bs_price - market_price\n",
    "        \n",
    "        iv_new = iv_old - gap/vega_price\n",
    "        new_bs_price = bs(option_type, S, X, T, r, iv_new)\n",
    "        \n",
    "        if (abs(iv_old - iv_new) < tol or abs(new_bs_price - bs_price) < tol):\n",
    "            break\n",
    "        \n",
    "        iv_old = iv_new\n",
    "        \n",
    "    impliedVolatility = iv_new\n",
    "    return impliedVolatility"
   ]
  },
  {
   "cell_type": "code",
   "execution_count": 10,
   "id": "39fb7590",
   "metadata": {},
   "outputs": [],
   "source": [
    "def getImpVol(option_type, S, X, T, r, market_price):\n",
    "    \n",
    "        def vol_helper(sigma):\n",
    "            result = market_price - BlackScholes(option_type, S, X, T, sigma, r, b) - 0.0001\n",
    "            return result\n",
    "   \n",
    "        impliedVol = fsolve(vol_helper, 0.5)\n",
    "        return impliedVol"
   ]
  },
  {
   "cell_type": "code",
   "execution_count": 11,
   "id": "6df1b9e5",
   "metadata": {},
   "outputs": [],
   "source": [
    "current_date = date(2022,2,25)\n",
    "last_date = date(2022,3,18)\n",
    "T = ((last_date - current_date).days) / 365\n",
    "S = 164.85\n",
    "r = 0.0025\n",
    "dividend_rate = 0.0053\n",
    "b = r - dividend_rate\n",
    "tol = 1e-9"
   ]
  },
  {
   "cell_type": "code",
   "execution_count": 12,
   "id": "bdfa843d",
   "metadata": {},
   "outputs": [],
   "source": [
    "call_iv = []\n",
    "put_iv = []\n",
    "for i in range(len(aapl)):\n",
    "    X = aapl['Strike'][i]\n",
    "    market_price = aapl['Last Price'][i]\n",
    "    option = aapl['Type'][i]\n",
    "    if option == 'Call':\n",
    "        call_iv.append(impliedVolatility('c', S, X, T, r, market_price, tol))\n",
    "    if option == 'Put':\n",
    "        put_iv.append(impliedVolatility('p', S, X, T, r, market_price, tol))"
   ]
  },
  {
   "cell_type": "code",
   "execution_count": 13,
   "id": "c8464715",
   "metadata": {},
   "outputs": [],
   "source": [
    "call_strike = []\n",
    "put_strike = []\n",
    "num_call = len(call_iv)\n",
    "for i in range(num_call):\n",
    "    call_strike.append(aapl['Strike'][i])\n",
    "for i in range(num_call, len(aapl)):\n",
    "    put_strike.append(aapl['Strike'][i])"
   ]
  },
  {
   "cell_type": "code",
   "execution_count": 14,
   "id": "808b824a",
   "metadata": {},
   "outputs": [
    {
     "data": {
      "text/plain": [
       "<matplotlib.legend.Legend at 0x20f33a90550>"
      ]
     },
     "execution_count": 14,
     "metadata": {},
     "output_type": "execute_result"
    },
    {
     "data": {
      "image/png": "[encoded data removed]",
      "text/plain": [
       "<Figure size 432x288 with 1 Axes>"
      ]
     },
     "metadata": {
      "needs_background": "light"
     },
     "output_type": "display_data"
    }
   ],
   "source": [
    "plt.plot(call_strike, call_iv, label = 'call')\n",
    "plt.plot(put_strike, put_iv, label = 'put')\n",
    "plt.xlabel('Strike Price')\n",
    "plt.ylabel('Implied Volatility')\n",
    "plt.legend()"
   ]
  },
  {
   "cell_type": "markdown",
   "id": "f8c3379a",
   "metadata": {},
   "source": [
    "<font size=\"5\">**Question 3**"
   ]
  },
  {
   "cell_type": "code",
   "execution_count": 15,
   "id": "5cb528a9",
   "metadata": {},
   "outputs": [],
   "source": [
    "df = pd.read_csv('problem3.csv')"
   ]
  },
  {
   "cell_type": "code",
   "execution_count": 16,
   "id": "9e6cf646",
   "metadata": {},
   "outputs": [],
   "source": [
    "current_date = date(2022,2,25)\n",
    "last_date = date(2022,3,18)\n",
    "T = ((last_date - current_date).days) / 365\n",
    "current_price = 164.85\n",
    "r = 0.0025\n",
    "dividend_rate = 0.0053\n",
    "b = r - dividend_rate\n",
    "tol = 1e-5"
   ]
  },
  {
   "cell_type": "code",
   "execution_count": 17,
   "id": "8a617bbc",
   "metadata": {},
   "outputs": [],
   "source": [
    "def port_value(portfolio, underlyingPrice, T, current_price, r, b, tol):\n",
    "    value = 0\n",
    "    PnL = 0\n",
    "    for row in portfolio.itertuples(name = \"options\"):\n",
    "        if(getattr(row, 'Type') == 'Stock'):\n",
    "            value += underlyingPrice * getattr(row, \"Holding\")\n",
    "            PnL += (underlyingPrice - current_price) * getattr(row, \"Holding\")\n",
    "            \n",
    "        else:\n",
    "            X = getattr(row, \"Strike\")\n",
    "            market_price = getattr(row, \"CurrentPrice\")\n",
    "            if(getattr(row, 'OptionType') == 'Call'):\n",
    "                iv = getImpVol('Call', underlyingPrice, X, T, r, market_price)\n",
    "                option_value = BlackScholes('Call', underlyingPrice, X, T, iv[0], r, b)\n",
    "                value += option_value * getattr(row, \"Holding\")\n",
    "                PnL += (option_value - market_price) * getattr(row, \"Holding\")\n",
    "                \n",
    "            else:\n",
    "                iv = getImpVol('Put', underlyingPrice, X, T, r, market_price)\n",
    "                option_value = BlackScholes('Put', underlyingPrice, X, T, iv[0], r, b)\n",
    "                value += option_value * getattr(row, \"Holding\")\n",
    "                PnL += (option_value - market_price) * getattr(row, \"Holding\")\n",
    "    return value, PnL"
   ]
  },
  {
   "cell_type": "code",
   "execution_count": 18,
   "id": "98bd399b",
   "metadata": {},
   "outputs": [],
   "source": [
    "groups = df.groupby(\"Portfolio\")\n",
    "names = list(dict.fromkeys(df['Portfolio']))"
   ]
  },
  {
   "cell_type": "code",
   "execution_count": 19,
   "id": "3d2048a4",
   "metadata": {},
   "outputs": [],
   "source": [
    "def getPort(names):\n",
    "    plt.figure(figsize = (8,8))\n",
    "    for name in names:\n",
    "        value = []\n",
    "        PnL = []\n",
    "        port = groups.get_group(name)\n",
    "        for underlyingPrice in range(150,170):\n",
    "            value.append(port_value(port, underlyingPrice, T, current_price, r, b, tol)[0])\n",
    "            PnL.append(port_value(port, underlyingPrice, T, current_price, r, b, tol)[1])\n",
    "        plt.plot(range(150,170), value, label = name)\n",
    "        plt.xlabel('Undelying Price')\n",
    "        plt.ylabel('Portfolio Value')\n",
    "        plt.legend()"
   ]
  },
  {
   "cell_type": "code",
   "execution_count": 20,
   "id": "5b5d5a5c",
   "metadata": {},
   "outputs": [
    {
     "name": "stderr",
     "output_type": "stream",
     "text": [
      "C:\\Users\\fgfgf\\anaconda3\\lib\\site-packages\\scipy\\optimize\\minpack.py:175: RuntimeWarning: The iteration is not making good progress, as measured by the \n",
      "  improvement from the last ten iterations.\n",
      "  warnings.warn(msg, RuntimeWarning)\n"
     ]
    },
    {
     "data": {
      "image/png": "[encoded data removed]",
      "text/plain": [
       "<Figure size 576x576 with 1 Axes>"
      ]
     },
     "metadata": {
      "needs_background": "light"
     },
     "output_type": "display_data"
    }
   ],
   "source": [
    "getPort(names)"
   ]
  },
  {
   "cell_type": "code",
   "execution_count": 21,
   "id": "b4db407d",
   "metadata": {},
   "outputs": [],
   "source": [
    "returns = pd.read_csv(\"DailyReturn.csv\")"
   ]
  },
  {
   "cell_type": "code",
   "execution_count": 22,
   "id": "d85fbb1c",
   "metadata": {},
   "outputs": [],
   "source": [
    "r_AAPL = returns[\"AAPL\"] - returns[\"AAPL\"].mean()\n",
    "std = r_AAPL.std() "
   ]
  },
  {
   "cell_type": "code",
   "execution_count": 23,
   "id": "b96bf24e",
   "metadata": {},
   "outputs": [],
   "source": [
    "nsim = 10000\n",
    "T = 10\n",
    "\n",
    "sim_rets = norm(0, std).rvs((10, nsim))\n",
    "sim_prices = 164.85 * (1 + sim_rets).prod(axis=0)"
   ]
  },
  {
   "cell_type": "code",
   "execution_count": 24,
   "id": "c7012738",
   "metadata": {},
   "outputs": [],
   "source": [
    "def calc_VaR(portofolioReturns, portfolioStd, distribution='normal', alpha=5, dof=6):\n",
    "    if distribution == 'normal':\n",
    "        VaR = norm.ppf(1-alpha/100)*portfolioStd - portofolioReturns\n",
    "    elif distribution == 't-distribution':\n",
    "        nu = dof\n",
    "        VaR = np.sqrt((nu-2)/nu) * t.ppf(1-alpha/100, nu) * portfolioStd - portofolioReturns\n",
    "    else:\n",
    "        raise TypeError(\"Expected distribution type 'normal'/'t-distribution'\")\n",
    "    return VaR"
   ]
  },
  {
   "cell_type": "code",
   "execution_count": 25,
   "id": "3d9b2c24",
   "metadata": {},
   "outputs": [],
   "source": [
    "def calc_CVaR(portofolioReturns, portfolioStd, distribution='normal', alpha=5, dof=6):\n",
    "    if distribution == 'normal':\n",
    "        CVaR = (alpha/100)**-1 * norm.pdf(norm.ppf(alpha/100))*portfolioStd - portofolioReturns\n",
    "    elif distribution == 't-distribution':\n",
    "        nu = dof\n",
    "        xanu = t.ppf(alpha/100, nu)\n",
    "        CVaR = -1/(alpha/100) * (1-nu)**(-1) * (nu-2+xanu**2) * t.pdf(xanu, nu) * portfolioStd - portofolioReturns\n",
    "    else:\n",
    "        raise TypeError(\"Expected distribution type 'normal'/'t-distribution'\")\n",
    "    return CVaR"
   ]
  },
  {
   "cell_type": "code",
   "execution_count": 26,
   "id": "faa364cd",
   "metadata": {},
   "outputs": [],
   "source": [
    "VaR = calc_VaR(sim_rets.mean(), std)\n",
    "CVaR = calc_CVaR(sim_rets.mean(), std)"
   ]
  },
  {
   "cell_type": "code",
   "execution_count": 27,
   "id": "c05464cb",
   "metadata": {},
   "outputs": [
    {
     "name": "stdout",
     "output_type": "stream",
     "text": [
      "0.026459130203977405\n",
      "0.03316386963071315\n"
     ]
    }
   ],
   "source": [
    "print(VaR)\n",
    "print(CVaR)"
   ]
  }
 ],
 "metadata": {
  "kernelspec": {
   "display_name": "Python 3 (ipykernel)",
   "language": "python",
   "name": "python3"
  },
  "language_info": {
   "codemirror_mode": {
    "name": "ipython",
    "version": 3
   },
   "file_extension": ".py",
   "mimetype": "text/x-python",
   "name": "python",
   "nbconvert_exporter": "python",
   "pygments_lexer": "ipython3",
   "version": "3.9.7"
  }
 },
 "nbformat": 4,
 "nbformat_minor": 5
}
