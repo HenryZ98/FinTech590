{
 "cells": [
  {
   "cell_type": "code",
   "execution_count": null,
   "id": "7838c97f",
   "metadata": {},
   "outputs": [],
   "source": [
    "import numpy as np\n",
    "import pandas as pd\n",
    "import matplotlib.pyplot as plt\n",
    "import statsmodels.api as sm\n",
    "from scipy import stats\n",
    "from scipy.stats import t\n",
    "from scipy.optimize import minimize\n",
    "import seaborn as sns\n",
    "\n",
    "from statsmodels.tsa.arima_process import ArmaProcess\n",
    "from statsmodels.graphics.tsaplots import plot_acf\n",
    "from statsmodels.graphics.tsaplots import plot_pacf"
   ]
  },
  {
   "cell_type": "markdown",
   "id": "74099bb6",
   "metadata": {},
   "source": [
    "<font size=\"5\">**Question 1**"
   ]
  },
  {
   "cell_type": "code",
   "execution_count": null,
   "id": "a311656c",
   "metadata": {},
   "outputs": [],
   "source": [
    "q1 = pd.read_csv(r'problem1.csv')"
   ]
  },
  {
   "cell_type": "code",
   "execution_count": null,
   "id": "38944448",
   "metadata": {},
   "outputs": [],
   "source": [
    "x1 = q1['y'] \n",
    "x2 = q1['x']\n",
    "x2 = sm.add_constant(x2)\n",
    "m1 = x1.mean()\n",
    "m2 = x2['x'].mean()\n",
    "cov = np.cov(x1,x2['x']) #covariance matrix"
   ]
  },
  {
   "cell_type": "code",
   "execution_count": null,
   "id": "ffaf3a55",
   "metadata": {},
   "outputs": [],
   "source": [
    "ols = sm.OLS(x1, x2).fit()\n",
    "print(ols.summary())"
   ]
  },
  {
   "cell_type": "code",
   "execution_count": null,
   "id": "fe2f422f",
   "metadata": {},
   "outputs": [],
   "source": [
    "print(\"Conditional beta_1: \", m1 - (cov[0,1]/cov[1,1])*m2)\n",
    "print(\"Conditional beta_0: \", cov[0,1]/cov[1,1])\n",
    "print()\n",
    "print(\"OLS beta_1: \", ols.params[0])\n",
    "print(\"OLS beta_0: \", ols.params[1])"
   ]
  },
  {
   "cell_type": "markdown",
   "id": "2fb1f30d",
   "metadata": {},
   "source": [
    "<font size=\"3\">Therefore, the estimation of conditional distribution of the Multivariate Normal is same as the OLS estimation."
   ]
  },
  {
   "cell_type": "markdown",
   "id": "db8721c9",
   "metadata": {},
   "source": [
    "<font size=\"5\">**Question 2**"
   ]
  },
  {
   "cell_type": "code",
   "execution_count": null,
   "id": "08f0cce6",
   "metadata": {},
   "outputs": [],
   "source": [
    "q2 = pd.read_csv(r'problem2.csv')"
   ]
  },
  {
   "cell_type": "code",
   "execution_count": null,
   "id": "d46cccd5",
   "metadata": {},
   "outputs": [],
   "source": [
    "x_q2 = q2['x']\n",
    "x_q2 = sm.add_constant(x_q2)\n",
    "y_q2 = q2['y']\n",
    "print(\"Mean of x: \", x_q2['x'].mean())\n",
    "print(\"Standard deviation of x: \", np.std(x_q2['x']))"
   ]
  },
  {
   "cell_type": "code",
   "execution_count": null,
   "id": "ddf760f5",
   "metadata": {},
   "outputs": [],
   "source": [
    "ols_q2 = sm.OLS(y_q2, x_q2).fit()\n",
    "print(ols_q2.summary())"
   ]
  },
  {
   "cell_type": "code",
   "execution_count": null,
   "id": "ee53d663",
   "metadata": {},
   "outputs": [],
   "source": [
    "plt.figure(figsize = (7,7))\n",
    "y_hat = ols_q2.predict(x_q2)\n",
    "error = y_q2 - y_hat\n",
    "error_dist = error.plot.kde(label = \"Normal Residual\")"
   ]
  },
  {
   "cell_type": "code",
   "execution_count": null,
   "id": "a6b86539",
   "metadata": {},
   "outputs": [],
   "source": [
    "def MLE_Norm(parameters):\n",
    "  const, beta, std_dev = parameters\n",
    "  pred = const + beta*x_q2['x']\n",
    "\n",
    "  LL = np.sum(stats.norm.logpdf(y_q2, pred, std_dev))\n",
    "  neg_LL = -1*LL\n",
    "  return neg_LL"
   ]
  },
  {
   "cell_type": "code",
   "execution_count": null,
   "id": "4e7a09a6",
   "metadata": {
    "scrolled": true
   },
   "outputs": [],
   "source": [
    "mle_model = minimize(MLE_Norm, np.array([1,1,1]), method='L-BFGS-B')\n",
    "mle_model"
   ]
  },
  {
   "cell_type": "markdown",
   "id": "68cafe5c",
   "metadata": {},
   "source": [
    "<font size=\"3\">MLE estimator is same as OLS."
   ]
  },
  {
   "cell_type": "code",
   "execution_count": null,
   "id": "aa88a181",
   "metadata": {},
   "outputs": [],
   "source": [
    "t.fit(t.rvs(df=99, size=100, loc=0, scale=1))"
   ]
  },
  {
   "cell_type": "code",
   "execution_count": null,
   "id": "0275f659",
   "metadata": {},
   "outputs": [],
   "source": [
    "plt.figure(figsize = (7,7))\n",
    "y_hat = ols_q2.predict(x_q2)\n",
    "error = y_q2 - y_hat\n",
    "error_dist = error.plot.kde(label = \"Normal Residual\")\n",
    "\n",
    "#MLE under the auusmption of normality\n",
    "mu_hat = x_q2['x'].mean()\n",
    "sigma_hat = x_q2['x'].std()\n",
    "x_dom = np.linspace(mu_hat - 3*sigma_hat, mu_hat + 3*sigma_hat, 100)\n",
    "plt.plot(x_dom, stats.norm.pdf(x_dom, mu_hat, sigma_hat), label = \"MLE normality\")\n",
    "plt.legend()"
   ]
  },
  {
   "cell_type": "markdown",
   "id": "86e84050",
   "metadata": {},
   "source": [
    "<font size=\"3\">Based on the graph, we can see that MLE fits better in t-distribition."
   ]
  },
  {
   "cell_type": "markdown",
   "id": "edf3d9a2",
   "metadata": {},
   "source": [
    "<font size=\"5\">**Question 3**"
   ]
  },
  {
   "cell_type": "code",
   "execution_count": null,
   "id": "d5d4e14d",
   "metadata": {},
   "outputs": [],
   "source": [
    "#AR(1)\n",
    "plt.subplot(2,1,1)\n",
    "ar1 = np.array([1, -0.6])\n",
    "ma1 = np.array([1])\n",
    "AR_object1 = ArmaProcess(ar1, ma1)\n",
    "simulated_data_1 = AR_object1.generate_sample(nsample=1000)\n",
    "plt.plot(simulated_data_1)"
   ]
  },
  {
   "cell_type": "code",
   "execution_count": null,
   "id": "a50138f8",
   "metadata": {},
   "outputs": [],
   "source": [
    "plot_acf(simulated_data_1, alpha=1, lags=20)\n",
    "plt.title(\"AR(1) ACF\")\n",
    "plt.show()\n",
    "plot_pacf(simulated_data_1, lags=20)\n",
    "plt.title(\"AR(1) PACF\")\n",
    "plt.show()"
   ]
  },
  {
   "cell_type": "code",
   "execution_count": null,
   "id": "a3d90529",
   "metadata": {},
   "outputs": [],
   "source": [
    "#AR(2)\n",
    "plt.subplot(2,1,1)\n",
    "ar2 = np.array([1, -0.6, 0.3])\n",
    "ma2 = np.array([1])\n",
    "AR_object2 = ArmaProcess(ar2, ma2)\n",
    "simulated_data_2 = AR_object2.generate_sample(nsample=5000)\n",
    "plt.plot(simulated_data_2)"
   ]
  },
  {
   "cell_type": "code",
   "execution_count": null,
   "id": "c7305acb",
   "metadata": {},
   "outputs": [],
   "source": [
    "plot_acf(simulated_data_2, alpha=1, lags=20)\n",
    "plt.title(\"AR(2) ACF\")\n",
    "plt.show()\n",
    "plot_pacf(simulated_data_2, lags=20)\n",
    "plt.title(\"AR(2) PACF\")\n",
    "plt.show()"
   ]
  },
  {
   "cell_type": "code",
   "execution_count": null,
   "id": "95cb7d45",
   "metadata": {},
   "outputs": [],
   "source": [
    "#AR(3)\n",
    "plt.subplot(2,1,1)\n",
    "ar3 = np.array([1, -0.6, 0.3, -0.3])\n",
    "ma3 = np.array([1])\n",
    "AR_object3 = ArmaProcess(ar3, ma3)\n",
    "simulated_data_3 = AR_object3.generate_sample(nsample=1000)\n",
    "plt.plot(simulated_data_3)"
   ]
  },
  {
   "cell_type": "code",
   "execution_count": null,
   "id": "53c5db77",
   "metadata": {},
   "outputs": [],
   "source": [
    "plot_acf(simulated_data_3, alpha=1, lags=20)\n",
    "plt.title(\"AR(3) ACF\")\n",
    "plt.show()\n",
    "plot_pacf(simulated_data_3, lags=20)\n",
    "plt.title(\"AR(3) PACF\")\n",
    "plt.show()"
   ]
  },
  {
   "cell_type": "code",
   "execution_count": null,
   "id": "9b0cb688",
   "metadata": {},
   "outputs": [],
   "source": [
    "#MA(1)\n",
    "plt.subplot(2,1,1)\n",
    "ar1 = np.array([1])\n",
    "ma1 = np.array([1, 0.6])\n",
    "MA_object1 = ArmaProcess(ar1, ma1)\n",
    "simulated_data_ma1 = MA_object1.generate_sample(nsample=1000)\n",
    "plt.plot(simulated_data_1)"
   ]
  },
  {
   "cell_type": "code",
   "execution_count": null,
   "id": "6d8d0c3b",
   "metadata": {},
   "outputs": [],
   "source": [
    "plot_acf(simulated_data_ma1, alpha=1, lags=20)\n",
    "plt.title(\"MA(1) ACF\")\n",
    "plt.show()\n",
    "plot_pacf(simulated_data_ma1, lags=20)\n",
    "plt.title(\"MA(1) PACF\")\n",
    "plt.show()"
   ]
  },
  {
   "cell_type": "code",
   "execution_count": null,
   "id": "dbc2f2b3",
   "metadata": {},
   "outputs": [],
   "source": [
    "#MA(2)\n",
    "plt.subplot(2,1,1)\n",
    "ar2 = np.array([1])\n",
    "ma2 = np.array([1, 0.6, -0.3])\n",
    "MA_object2 = ArmaProcess(ar2, ma2)\n",
    "simulated_data_ma2 = MA_object2.generate_sample(nsample=1000)\n",
    "plt.plot(simulated_data_ma2)"
   ]
  },
  {
   "cell_type": "code",
   "execution_count": null,
   "id": "359ad8c8",
   "metadata": {},
   "outputs": [],
   "source": [
    "plot_acf(simulated_data_ma2, alpha=1, lags=20)\n",
    "plt.title(\"MA(2) ACF\")\n",
    "plt.show()\n",
    "plot_pacf(simulated_data_ma2, lags=20)\n",
    "plt.title(\"MA(2) PACF\")\n",
    "plt.show()"
   ]
  },
  {
   "cell_type": "code",
   "execution_count": null,
   "id": "c4e1cdc0",
   "metadata": {},
   "outputs": [],
   "source": [
    "#MA(3)\n",
    "plt.subplot(2,1,1)\n",
    "ar3 = np.array([1])\n",
    "ma3 = np.array([1, 0.6, -0.3, 0.3])\n",
    "MA_object3 = ArmaProcess(ar3, ma3)\n",
    "simulated_data_ma3 = MA_object3.generate_sample(nsample=1000)\n",
    "plt.plot(simulated_data_ma3)"
   ]
  },
  {
   "cell_type": "code",
   "execution_count": null,
   "id": "08a3b0e3",
   "metadata": {},
   "outputs": [],
   "source": [
    "plot_acf(simulated_data_ma3, alpha=1, lags=20)\n",
    "plt.title(\"MA(3) ACF\")\n",
    "plt.show()\n",
    "plot_pacf(simulated_data_ma3, lags=20)\n",
    "plt.title(\"MA(3) PACF\")\n",
    "plt.show()"
   ]
  }
 ],
 "metadata": {
  "kernelspec": {
   "display_name": "Python 3 (ipykernel)",
   "language": "python",
   "name": "python3"
  },
  "language_info": {
   "codemirror_mode": {
    "name": "ipython",
    "version": 3
   },
   "file_extension": ".py",
   "mimetype": "text/x-python",
   "name": "python",
   "nbconvert_exporter": "python",
   "pygments_lexer": "ipython3",
   "version": "3.9.7"
  }
 },
 "nbformat": 4,
 "nbformat_minor": 5
}
