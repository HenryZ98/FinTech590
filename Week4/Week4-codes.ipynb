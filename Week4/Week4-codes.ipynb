{
 "cells": [
  {
   "cell_type": "code",
   "execution_count": 1,
   "id": "99ed2a23",
   "metadata": {},
   "outputs": [],
   "source": [
    "import numpy as np\n",
    "import pandas as pd\n",
    "import matplotlib.pyplot as plt\n",
    "import math\n",
    "from scipy.stats import norm\n",
    "from scipy.stats import t\n",
    "import datetime as dt\n",
    "from pandas_datareader import data as pdr\n",
    "import yfinance as yf\n",
    "import seaborn as sns"
   ]
  },
  {
   "cell_type": "markdown",
   "id": "4b2cfc37",
   "metadata": {},
   "source": [
    "<font size=\"5\">**Question 1**"
   ]
  },
  {
   "cell_type": "code",
   "execution_count": 2,
   "id": "9884a591",
   "metadata": {},
   "outputs": [],
   "source": [
    "df = pd.read_csv(r'spy_gfc.csv')\n",
    "price = df.iloc[:, 5:6]"
   ]
  },
  {
   "cell_type": "code",
   "execution_count": 3,
   "id": "3fbf8e35",
   "metadata": {},
   "outputs": [],
   "source": [
    "r = []\n",
    "for i in range(1, len(price)):\n",
    "    ret = (price.iloc[i]-price.iloc[i-1])/price.iloc[i-1]\n",
    "    r.append(ret)\n",
    "r_std = np.std(r)"
   ]
  },
  {
   "cell_type": "code",
   "execution_count": 4,
   "id": "71355a4a",
   "metadata": {},
   "outputs": [],
   "source": [
    "mean_p = price['AdjClose'].mean()\n",
    "std_p = price['AdjClose'].std()"
   ]
  },
  {
   "cell_type": "code",
   "execution_count": 5,
   "id": "cd667652",
   "metadata": {},
   "outputs": [],
   "source": [
    "def price_sim(method, df, nsim):\n",
    "    np.random.seed(1234)\n",
    "    exp_price = np.zeros((len(df)-1, nsim))\n",
    "    r = np.zeros((len(df)-1, nsim))\n",
    "    for i in range(nsim):\n",
    "        exp_price[0][i] = mean_p\n",
    "    \n",
    "    if(method == 'Brownian'): \n",
    "        for i in range(nsim):\n",
    "            r_a = np.random.normal(loc=0.0, scale=r_std, size=(len(df)-1, 1))\n",
    "            for j in range(len(df)-1):\n",
    "                r[j][i] = r_a[j]\n",
    "        for i in range(1,len(df)-1):\n",
    "            for j in range(nsim):\n",
    "                exp_price[i][j] = exp_price[i-1][j] + r[i][j]\n",
    "        exp_mean = exp_price.mean(axis=0)\n",
    "        exp_std = exp_price.std(axis=0)\n",
    "        \n",
    "        mean = exp_mean.mean()\n",
    "        std = exp_std.mean()\n",
    "        return mean, std\n",
    "    \n",
    "    elif(method == 'Arithmetic'):\n",
    "        for i in range(nsim):\n",
    "            r_a = np.random.normal(loc=0.0, scale=r_std, size=(len(df)-1, 1))\n",
    "            for j in range(len(df)-1):\n",
    "                r[j][i] = r_a[j]\n",
    "        for i in range(1,len(df)-1):\n",
    "            for j in range(nsim):\n",
    "                exp_price[i][j] = exp_price[i-1][j] * (1 + r[i][j])\n",
    "        exp_mean = exp_price.mean(axis=0)\n",
    "        exp_std = exp_price.std(axis=0)\n",
    "        \n",
    "        mean = exp_mean.mean()\n",
    "        std = exp_std.mean()\n",
    "        return mean, std\n",
    "    \n",
    "    elif(method == 'Geometric'):\n",
    "        for i in range(nsim):\n",
    "            r_a = np.random.normal(loc=0.0, scale=r_std, size=(len(df)-1, 1))\n",
    "            for j in range(len(df)-1):\n",
    "                r[j][i] = r_a[j]\n",
    "        for i in range(1,len(df)-1):\n",
    "            for j in range(nsim):\n",
    "                exp_price[i][j] = exp_price[i-1][j] * math.exp(r[i][j])\n",
    "        exp_mean = exp_price.mean(axis=0)\n",
    "        exp_std = exp_price.std(axis=0)\n",
    "        \n",
    "        mean = exp_mean.mean()\n",
    "        std = exp_std.mean()\n",
    "        return mean, std\n",
    "\n",
    "    else:\n",
    "            print(\"Wrong Method\")"
   ]
  },
  {
   "cell_type": "code",
   "execution_count": 6,
   "id": "efa22d16",
   "metadata": {},
   "outputs": [],
   "source": [
    "mean1,std1 = price_sim('Brownian', price, 25000)\n",
    "mean2,std2 = price_sim('Arithmetic', price, 25000)\n",
    "mean3,std3 = price_sim('Geometric', price, 25000)"
   ]
  },
  {
   "cell_type": "code",
   "execution_count": 7,
   "id": "7031ef44",
   "metadata": {},
   "outputs": [
    {
     "data": {
      "text/html": [
       "<div>\n",
       "<style scoped>\n",
       "    .dataframe tbody tr th:only-of-type {\n",
       "        vertical-align: middle;\n",
       "    }\n",
       "\n",
       "    .dataframe tbody tr th {\n",
       "        vertical-align: top;\n",
       "    }\n",
       "\n",
       "    .dataframe thead th {\n",
       "        text-align: right;\n",
       "    }\n",
       "</style>\n",
       "<table border=\"1\" class=\"dataframe\">\n",
       "  <thead>\n",
       "    <tr style=\"text-align: right;\">\n",
       "      <th></th>\n",
       "      <th>Name</th>\n",
       "      <th>Mean</th>\n",
       "      <th>Std</th>\n",
       "    </tr>\n",
       "  </thead>\n",
       "  <tbody>\n",
       "    <tr>\n",
       "      <th>0</th>\n",
       "      <td>Original</td>\n",
       "      <td>70.495078</td>\n",
       "      <td>11.174723</td>\n",
       "    </tr>\n",
       "    <tr>\n",
       "      <th>1</th>\n",
       "      <td>Classic_Brownian</td>\n",
       "      <td>70.493406</td>\n",
       "      <td>0.161613</td>\n",
       "    </tr>\n",
       "    <tr>\n",
       "      <th>2</th>\n",
       "      <td>Arithmetic</td>\n",
       "      <td>70.365064</td>\n",
       "      <td>11.371942</td>\n",
       "    </tr>\n",
       "    <tr>\n",
       "      <th>3</th>\n",
       "      <td>Geometric_Brownian</td>\n",
       "      <td>73.667078</td>\n",
       "      <td>12.010054</td>\n",
       "    </tr>\n",
       "  </tbody>\n",
       "</table>\n",
       "</div>"
      ],
      "text/plain": [
       "                 Name       Mean        Std\n",
       "0            Original  70.495078  11.174723\n",
       "1    Classic_Brownian  70.493406   0.161613\n",
       "2          Arithmetic  70.365064  11.371942\n",
       "3  Geometric_Brownian  73.667078  12.010054"
      ]
     },
     "execution_count": 7,
     "metadata": {},
     "output_type": "execute_result"
    }
   ],
   "source": [
    "name = ['Original','Classic_Brownian','Arithmetic','Geometric_Brownian']\n",
    "mean = [mean_p,mean1,mean2,mean3]\n",
    "std = [std_p,std1,std2,std3]\n",
    "result = pd.DataFrame(list(zip(name,mean,std)), columns = ['Name','Mean','Std'])\n",
    "result"
   ]
  },
  {
   "cell_type": "markdown",
   "id": "d6a462fc",
   "metadata": {},
   "source": [
    "<font size=\"5\">**Question 2**"
   ]
  },
  {
   "cell_type": "code",
   "execution_count": 8,
   "id": "22c01875",
   "metadata": {},
   "outputs": [],
   "source": [
    "def return_calculate(method, price):\n",
    "    n = len(price)\n",
    "    r = np.zeros((n-1, 1))\n",
    "    if(method == 'Brownian'):\n",
    "        for i in range(n-1):\n",
    "            ret = price[i+1] - price[i]\n",
    "            r[i] = ret\n",
    "        return r\n",
    "    \n",
    "    elif(method == 'Arithmetic'):\n",
    "        for i in range(n-1):\n",
    "            ret = (price[i+1]/price[i]) - 1.0\n",
    "            r[i] = ret\n",
    "        return r\n",
    "            \n",
    "    elif(method == 'Geometric'):\n",
    "        for i in range(n-1):\n",
    "            ret = np.log(price[i+1]/price[i])\n",
    "            r[i] = ret\n",
    "        return r\n",
    "    \n",
    "    else:\n",
    "        print(\"Wrong Method\")"
   ]
  },
  {
   "cell_type": "code",
   "execution_count": 9,
   "id": "46f3e71b",
   "metadata": {},
   "outputs": [],
   "source": [
    "def ewm (x, exp_w, lamda):\n",
    "    w = []\n",
    "    sum_w = 0\n",
    "    n = x.shape[1]\n",
    "    for i in range(1, len(x.index)+1):\n",
    "        w.append((1-lamda)*lamda**(i-1))\n",
    "        sum_w = sum_w + w[i-1]\n",
    "    for i in range(len(x.index)):   \n",
    "        exp_w.append(w[i] / sum_w)\n",
    "    \n",
    "    \n",
    "    cov_matrix = np.zeros([n,n])\n",
    "    for i in range (len(x.index)):\n",
    "        for j in range (n):\n",
    "            x.iloc[i,j] = x.iloc[i,j] - np.mean(x.iloc[:,j])\n",
    "    \n",
    "            \n",
    "    for i in range (n):\n",
    "        for j in range (n):\n",
    "            temp = exp_w * x.iloc[:,i]\n",
    "            cov_matrix[i,j] = np.dot(temp, x.iloc[:, j])\n",
    "            \n",
    "    return cov_matrix"
   ]
  },
  {
   "cell_type": "code",
   "execution_count": 10,
   "id": "e372b408",
   "metadata": {},
   "outputs": [],
   "source": [
    "daily_price = pd.read_csv(r'DailyPrices.csv')\n",
    "daily_price = daily_price.iloc[: , 1:]\n",
    "INTC = daily_price[\"INTC\"]\n",
    "INTC = INTC-INTC.mean()"
   ]
  },
  {
   "cell_type": "code",
   "execution_count": 11,
   "id": "82f373ff",
   "metadata": {},
   "outputs": [
    {
     "name": "stdout",
     "output_type": "stream",
     "text": [
      "-0.522582198776928\n",
      "3.4400574204366574\n"
     ]
    }
   ],
   "source": [
    "ret = return_calculate('Arithmetic', INTC)\n",
    "ret_mean = ret.mean()\n",
    "ret_std = ret.std()\n",
    "print(ret_mean)\n",
    "print(ret_std)"
   ]
  },
  {
   "cell_type": "code",
   "execution_count": 12,
   "id": "3caba86c",
   "metadata": {},
   "outputs": [],
   "source": [
    "#VaR Normal_dist\n",
    "returns_dp = daily_price.pct_change()\n",
    "\n",
    "alpha = 0.05\n",
    "VaR1 = norm.ppf(alpha, ret_mean, ret_std)"
   ]
  },
  {
   "cell_type": "code",
   "execution_count": 13,
   "id": "5c5fed46",
   "metadata": {},
   "outputs": [],
   "source": [
    "#VaR Normal_dist with EW_Var\n",
    "daily_price = pd.read_csv('DailyPrices.csv')\n",
    "daily_price = daily_price.iloc[: , 1:]\n",
    "returns_dp = daily_price.pct_change()\n",
    "returns_dp = returns_dp.iloc[1:, :]\n",
    "\n",
    "exp_w = []\n",
    "ewm_cov_dp = ewm(returns_dp, exp_w, 0.94)\n",
    "exp_w = exp_w[::-1]\n",
    "\n",
    "for i in range(len(returns_dp)):\n",
    "    returns_dp['INTC'].iloc[i] *= exp_w[i]\n",
    "\n",
    "ewm_mean = returns_dp['INTC'].mean()\n",
    "ewm_std = returns_dp['INTC'].std()\n",
    "        \n",
    "alpha = 0.05\n",
    "VaR2 = norm.ppf(alpha, ewm_mean, ewm_std)"
   ]
  },
  {
   "cell_type": "code",
   "execution_count": 14,
   "id": "10346681",
   "metadata": {},
   "outputs": [],
   "source": [
    "#VaR with t_dist\n",
    "daily_price = pd.read_csv('DailyPrices.csv')\n",
    "daily_price = daily_price.iloc[: , 1:]\n",
    "\n",
    "returns_dp = daily_price.pct_change()\n",
    "\n",
    "dof = len(returns_dp.columns) - 1\n",
    "VaR3 = np.sqrt((dof-2)/dof) * t.ppf(alpha, dof) * ret_std - ret_mean"
   ]
  },
  {
   "cell_type": "code",
   "execution_count": 15,
   "id": "7002b002",
   "metadata": {},
   "outputs": [
    {
     "name": "stdout",
     "output_type": "stream",
     "text": [
      "[*********************100%***********************]  1 of 1 completed\n",
      "The VaR value by using historic simulation is -0.039814.\n",
      "[*********************100%***********************]  1 of 1 completed\n"
     ]
    },
    {
     "data": {
      "image/png": "[encoded data removed]",
      "text/plain": [
       "<Figure size 720x720 with 1 Axes>"
      ]
     },
     "metadata": {
      "needs_background": "light"
     },
     "output_type": "display_data"
    }
   ],
   "source": [
    "# import data\n",
    "start = dt.datetime(2019,1,1)\n",
    "end = dt.datetime.now()\n",
    "df_yahoo = yf.download(\"INTC\", start, end)['Adj Close']\n",
    "\n",
    "# Calculate VaR\n",
    "return4 = return_calculate('Arithmetic', df_yahoo)\n",
    "std4 = np.sqrt(return4.var())\n",
    "mean4 = return4.mean()\n",
    "confidence_level = 0.05 \n",
    "VaR4 = norm.ppf(confidence_level, mean4, std4)\n",
    "print('The VaR value by using historic simulation is %f.' % VaR4)\n",
    "\n",
    "plt.figure(figsize = (10,10))\n",
    "\n",
    "KDE = yf.download(\"INTC\", start, end)['Adj Close']\n",
    "temp = KDE.pct_change()\n",
    "sns.kdeplot(temp)\n",
    "plt.show()"
   ]
  },
  {
   "cell_type": "code",
   "execution_count": 16,
   "id": "c6e60ecd",
   "metadata": {},
   "outputs": [
    {
     "data": {
      "text/html": [
       "<div>\n",
       "<style scoped>\n",
       "    .dataframe tbody tr th:only-of-type {\n",
       "        vertical-align: middle;\n",
       "    }\n",
       "\n",
       "    .dataframe tbody tr th {\n",
       "        vertical-align: top;\n",
       "    }\n",
       "\n",
       "    .dataframe thead th {\n",
       "        text-align: right;\n",
       "    }\n",
       "</style>\n",
       "<table border=\"1\" class=\"dataframe\">\n",
       "  <thead>\n",
       "    <tr style=\"text-align: right;\">\n",
       "      <th></th>\n",
       "      <th>Name</th>\n",
       "      <th>VaR</th>\n",
       "    </tr>\n",
       "  </thead>\n",
       "  <tbody>\n",
       "    <tr>\n",
       "      <th>0</th>\n",
       "      <td>Norm_dist</td>\n",
       "      <td>-6.180973</td>\n",
       "    </tr>\n",
       "    <tr>\n",
       "      <th>1</th>\n",
       "      <td>Norm_dist with EW_VAR</td>\n",
       "      <td>-0.000521</td>\n",
       "    </tr>\n",
       "    <tr>\n",
       "      <th>2</th>\n",
       "      <td>T_dist</td>\n",
       "      <td>-5.131318</td>\n",
       "    </tr>\n",
       "    <tr>\n",
       "      <th>3</th>\n",
       "      <td>Historical_sim</td>\n",
       "      <td>-0.039814</td>\n",
       "    </tr>\n",
       "  </tbody>\n",
       "</table>\n",
       "</div>"
      ],
      "text/plain": [
       "                    Name       VaR\n",
       "0              Norm_dist -6.180973\n",
       "1  Norm_dist with EW_VAR -0.000521\n",
       "2                 T_dist -5.131318\n",
       "3         Historical_sim -0.039814"
      ]
     },
     "execution_count": 16,
     "metadata": {},
     "output_type": "execute_result"
    }
   ],
   "source": [
    "names_dp = ['Norm_dist', 'Norm_dist with EW_VAR', 'T_dist', 'Historical_sim']\n",
    "VaRs_dp = [VaR1, VaR2, VaR3, VaR4]\n",
    "\n",
    "result_dp = pd.DataFrame(list(zip(names_dp,VaRs_dp)), columns = ['Name','VaR'])\n",
    "result_dp"
   ]
  },
  {
   "cell_type": "markdown",
   "id": "05710a0d",
   "metadata": {},
   "source": [
    "<font size=\"5\">**Question 3**"
   ]
  },
  {
   "cell_type": "markdown",
   "id": "67b335c7",
   "metadata": {},
   "source": [
    "<font size=\"5\">I will use normal distribution to calculate VaR"
   ]
  },
  {
   "cell_type": "code",
   "execution_count": 17,
   "id": "1524f90b",
   "metadata": {},
   "outputs": [],
   "source": [
    "port1 = pd.read_csv(r'portfolio_A.csv')\n",
    "port2 = pd.read_csv(r'portfolio_B.csv')\n",
    "port3 = pd.read_csv(r'portfolio_C.csv')\n",
    "\n",
    "port = pd.read_csv(r'portfolio.csv')"
   ]
  },
  {
   "cell_type": "code",
   "execution_count": 18,
   "id": "917f3001",
   "metadata": {},
   "outputs": [],
   "source": [
    "#Portfolio A\n",
    "stock1 = port1['Stock']\n",
    "holding1 = port1['Holding']\n",
    "price1 = daily_price[stock1]\n",
    "weight1 = np.zeros((len(stock1),1))\n",
    "tot1 = 0\n",
    "for i in range(len(stock1)):\n",
    "    tot1 += holding1[i] * daily_price[stock1[i]].iloc[0]\n",
    "for i in range(len(stock1)):\n",
    "    w = (holding1[i] * daily_price[stock1[i]].iloc[0]) / tot1\n",
    "    weight1[i] = w\n",
    "    \n",
    "    \n",
    "returns1 = price1.pct_change()\n",
    "cov1 = returns1.cov()\n",
    "port_std1 = np.sqrt(weight1.T @ cov1 @ weight1)\n",
    "\n",
    "\n",
    "x = np.arange(-0.5,0.5,0.001)\n",
    "norm_dist1 = norm.pdf(x, 0, port_std1[0][0])\n",
    "alpha = 0.05\n",
    "VaR1 = norm.ppf(alpha, 0, port_std1[0][0])"
   ]
  },
  {
   "cell_type": "code",
   "execution_count": 19,
   "id": "31b86284",
   "metadata": {},
   "outputs": [],
   "source": [
    "#Portfolio B\n",
    "stock2 = port2['Stock']\n",
    "holding2 = port2['Holding']\n",
    "price2 = daily_price[stock2]\n",
    "weight2 = np.zeros((len(stock2),1))\n",
    "tot2 = 0\n",
    "for i in range(len(stock2)):\n",
    "    tot2 += holding2[i] * price2[stock2[i]].iloc[0]\n",
    "for i in range(len(stock2)):\n",
    "    w = (holding2[i] * price2[stock2[i]].iloc[0]) / tot2\n",
    "    weight2[i] = w\n",
    "    \n",
    "returns2 = price2.pct_change()\n",
    "cov2 = returns2.cov()\n",
    "port_std2 = np.sqrt(weight2.T @ cov2 @ weight2)\n",
    "\n",
    "\n",
    "norm_dist2 = norm.pdf(x, 0, port_std2[0][0])\n",
    "VaR2 = norm.ppf(alpha, 0, port_std2[0][0])"
   ]
  },
  {
   "cell_type": "code",
   "execution_count": 20,
   "id": "796cc62f",
   "metadata": {},
   "outputs": [],
   "source": [
    "#Portfolio C\n",
    "stock3 = port3['Stock']\n",
    "holding3 = port3['Holding']\n",
    "price3 = daily_price[stock3]\n",
    "weight3 = np.zeros((len(stock3),1))\n",
    "tot3 = 0\n",
    "for i in range(len(stock3)):\n",
    "    tot3 += holding3[i] * price3[stock3[i]].iloc[0]\n",
    "for i in range(len(stock3)):\n",
    "    w = (holding3[i] * price3[stock3[i]].iloc[0]) / tot3\n",
    "    weight3[i] = w\n",
    "    \n",
    "returns3 = price3.pct_change()\n",
    "cov3 = returns3.cov()\n",
    "port_std3 = np.sqrt(weight3.T @ cov3 @ weight3)\n",
    "\n",
    "\n",
    "norm_dist3 = norm.pdf(x, 0, port_std3[0][0])\n",
    "VaR3 = norm.ppf(alpha, 0, port_std3[0][0])"
   ]
  },
  {
   "cell_type": "code",
   "execution_count": 21,
   "id": "70bac4c3",
   "metadata": {},
   "outputs": [],
   "source": [
    "#Whole Portfolio \n",
    "stock = port['Stock']\n",
    "holding = port['Holding']\n",
    "price = daily_price[stock]\n",
    "weight = np.zeros((len(stock),1))\n",
    "tot = 0\n",
    "for i in range(len(stock)):\n",
    "    tot += holding[i] * price[stock[i]].iloc[0]\n",
    "for i in range(len(stock)):\n",
    "    w = (holding[i] * price[stock[i]].iloc[0]) / tot\n",
    "    weight[i] = w\n",
    "    \n",
    "returns = price.pct_change()\n",
    "cov = returns.cov()\n",
    "port_std = np.sqrt(weight.T @ cov @ weight)\n",
    "\n",
    "\n",
    "norm_dist = norm.pdf(x, 0, port_std[0][0])\n",
    "VaR = norm.ppf(alpha, 0, port_std[0][0])"
   ]
  },
  {
   "cell_type": "code",
   "execution_count": 22,
   "id": "569a1237",
   "metadata": {},
   "outputs": [
    {
     "data": {
      "text/html": [
       "<div>\n",
       "<style scoped>\n",
       "    .dataframe tbody tr th:only-of-type {\n",
       "        vertical-align: middle;\n",
       "    }\n",
       "\n",
       "    .dataframe tbody tr th {\n",
       "        vertical-align: top;\n",
       "    }\n",
       "\n",
       "    .dataframe thead th {\n",
       "        text-align: right;\n",
       "    }\n",
       "</style>\n",
       "<table border=\"1\" class=\"dataframe\">\n",
       "  <thead>\n",
       "    <tr style=\"text-align: right;\">\n",
       "      <th></th>\n",
       "      <th>Name</th>\n",
       "      <th>VaR</th>\n",
       "    </tr>\n",
       "  </thead>\n",
       "  <tbody>\n",
       "    <tr>\n",
       "      <th>0</th>\n",
       "      <td>Port_A</td>\n",
       "      <td>-0.016521</td>\n",
       "    </tr>\n",
       "    <tr>\n",
       "      <th>1</th>\n",
       "      <td>Port_B</td>\n",
       "      <td>-0.015009</td>\n",
       "    </tr>\n",
       "    <tr>\n",
       "      <th>2</th>\n",
       "      <td>Port_C</td>\n",
       "      <td>-0.011269</td>\n",
       "    </tr>\n",
       "    <tr>\n",
       "      <th>3</th>\n",
       "      <td>Tot_Port</td>\n",
       "      <td>-0.013936</td>\n",
       "    </tr>\n",
       "  </tbody>\n",
       "</table>\n",
       "</div>"
      ],
      "text/plain": [
       "       Name       VaR\n",
       "0    Port_A -0.016521\n",
       "1    Port_B -0.015009\n",
       "2    Port_C -0.011269\n",
       "3  Tot_Port -0.013936"
      ]
     },
     "execution_count": 22,
     "metadata": {},
     "output_type": "execute_result"
    }
   ],
   "source": [
    "names = ['Port_A', 'Port_B', 'Port_C', 'Tot_Port']\n",
    "VaRs = [VaR1, VaR2, VaR3, VaR]\n",
    "\n",
    "results = pd.DataFrame(list(zip(names,VaRs)), columns = ['Name','VaR'])\n",
    "results"
   ]
  }
 ],
 "metadata": {
  "kernelspec": {
   "display_name": "Python 3 (ipykernel)",
   "language": "python",
   "name": "python3"
  },
  "language_info": {
   "codemirror_mode": {
    "name": "ipython",
    "version": 3
   },
   "file_extension": ".py",
   "mimetype": "text/x-python",
   "name": "python",
   "nbconvert_exporter": "python",
   "pygments_lexer": "ipython3",
   "version": "3.9.7"
  }
 },
 "nbformat": 4,
 "nbformat_minor": 5
}
